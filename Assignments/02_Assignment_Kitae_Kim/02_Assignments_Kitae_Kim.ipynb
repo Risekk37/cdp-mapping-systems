{
 "cells": [
  {
   "cell_type": "markdown",
   "metadata": {},
   "source": [
    "I understood tk as python's tkinter at first time, and made a code to represent the data as a GUI. "
   ]
  },
  {
   "cell_type": "code",
   "execution_count": null,
   "metadata": {},
   "outputs": [],
   "source": [
    "# Data Visualization With tkinter\n",
    "import tkinter\n",
    "import tkinter.ttk\n",
    "import pandas as pd\n",
    "\n",
    "\n",
    "file_path = '../Data/subway_crd_line_info-main/Cordinate_Subway.csv'\n",
    "df = pd.read_csv(file_path, encoding='cp949')\n",
    "\n",
    "\n",
    "root = tkinter.Tk()\n",
    "root.title(\"Subway of Seoul\")\n",
    "root.geometry(\"800x600+100+100\")\n",
    "root.resizable(False, False)\n",
    "\n",
    "lbl = tkinter.Label(root, text=\"Subway of Seoul\")\n",
    "lbl.pack()\n",
    "\n",
    "\n",
    "treeview = tkinter.ttk.Treeview(root, columns=[\"one\", \"two\", \"three\", \"four\", \"five\"], displaycolumns=[\"one\", \"two\", \"three\", \"four\", \"five\"])\n",
    "treeview.pack(expand=True, fill='both')\n",
    "\n",
    "\n",
    "treeview.column(\"#0\", width=50)\n",
    "treeview.heading(\"#0\", text=\"Index\")\n",
    "\n",
    "treeview.column(\"one\", width=100, anchor=\"center\")\n",
    "treeview.heading(\"one\", text=\"Subway_code\", anchor=\"center\")\n",
    "\n",
    "treeview.column(\"two\", width=150, anchor=\"center\")\n",
    "treeview.heading(\"two\", text=\"Subway_name\", anchor=\"center\")\n",
    "\n",
    "treeview.column(\"three\", width=200, anchor=\"center\")\n",
    "treeview.heading(\"three\", text=\"Subway_Engname)\", anchor=\"center\")\n",
    "\n",
    "treeview.column(\"four\", width=100, anchor=\"center\")\n",
    "treeview.heading(\"four\", text=\"Line\", anchor=\"center\")\n",
    "\n",
    "treeview.column(\"five\", width=100, anchor=\"center\")\n",
    "treeview.heading(\"five\", text=\"Exterior_Code\", anchor=\"center\")\n",
    "\n",
    "\n",
    "for i, row in df.iterrows():\n",
    "    treeview.insert('', 'end', text=i, values=(row['Subway_code'], row['Subway_name'], row['Subway_Engname'], row['Line'], row['Exterior_Code']), iid=str(i) + \".\")\n",
    "\n",
    "\n",
    "root.mainloop()"
   ]
  },
  {
   "cell_type": "markdown",
   "metadata": {},
   "source": [
    "Two dataset for Subway in Korea.\n",
    "1. Coordinate_subway = ../Data/subway_crd_line_info-main/Cordinate_Subway.csv\n",
    "2. Information_subway_by_Line = ../Data/subway_crd_line_info-main/nformation_Subway_by_Line.csv"
   ]
  },
  {
   "cell_type": "code",
   "execution_count": 2,
   "metadata": {},
   "outputs": [],
   "source": [
    "import pandas as pd\n",
    "import os \n",
    "from geopandas import GeoDataFrame\n",
    "import pickle\n",
    "from shapely.geometry import Point\n",
    "\n",
    "cur_path = os.getcwd() \n",
    "\n",
    "subway_crd = pd.read_csv('../Data/subway_crd_line_info-main/Cordinate_Subway.csv', encoding='cp949')\n",
    "subway_line= pd.read_csv('../Data/subway_crd_line_info-main/nformation_Subway_by_Line.csv', encoding='cp949')\n",
    "\n",
    "line_ls = []\n",
    "for i in range(len(subway_crd)): \n",
    "    cur_subway = subway_crd.iloc[i]['역이름']\n",
    "    matched_line = subway_line.loc[subway_line['Subway_name'] == cur_subway]\n",
    "    \n",
    "    if len(matched_line) > 0 : \n",
    "        line_ls.append(list(matched_line['Line']))\n",
    "        \n",
    "    else: \n",
    "        line_ls.append(None)\n",
    "\n",
    "subway_crd['호선'] = line_ls # 호선 정보 부여\n",
    "subway_crd.dropna(subset=['호선'], inplace=True, axis=0) # 수도권 지하철역 좌표는 노선 정보가 안들어갔으므로 제거 \n",
    "\n",
    "subway_crd['geometry'] = subway_crd.apply(lambda x: Point(x['x'], x['y']), axis=1) # 좌표 정보를 합쳐서 geometry 정보 부여  \n",
    "subway_crd_gdf = GeoDataFrame(subway_crd, crs='EPSG:4326', geometry='geometry') # 좌표계 지정"
   ]
  },
  {
   "cell_type": "code",
   "execution_count": 3,
   "metadata": {},
   "outputs": [],
   "source": [
    "def write_data(data, name):\n",
    "    with open(name + '.bin', 'wb') as f:\n",
    "        pickle.dump(data, f)\n",
    "        \n",
    "        \n",
    "def load_data(name):\n",
    "    with open(name + '.bin', 'rb') as f:\n",
    "        data = pickle.load(f)\n",
    "    return data  "
   ]
  },
  {
   "cell_type": "code",
   "execution_count": 4,
   "metadata": {},
   "outputs": [],
   "source": [
    "# bin 데이터 -- 파이썬 활용 용도 (ArcGIS/QGIS 시각화 용도 x)\n",
    "write_data(subway_crd_gdf, 'subway_crd_4326')\n",
    "subway_crd_5179 = subway_crd_gdf.to_crs(epsg=5179) # 거리 계산을 위한 좌표계로 변환 후 저장\n",
    "write_data(subway_crd_5179, 'subway_crd_5179')\n",
    "\n",
    "\n",
    "# 나중에 bin 데이터 다시 불러올 때 \n",
    "subway_crd_4326 = load_data('subway_crd_4326')\n",
    "subway_crd_5179 = load_data('subway_crd_5179')\n",
    "\n",
    "\n",
    "# 노선 정보를 빼고 좌표 데이터 \n",
    "subway_crd_5179 = subway_crd_5179.drop(['Line'], axis=1)\n",
    "subway_crd_5179.to_file('subway_crd_5179.geojson', driver='GeoJSON')"
   ]
  }
 ],
 "metadata": {
  "kernelspec": {
   "display_name": "CDP",
   "language": "python",
   "name": "python3"
  },
  "language_info": {
   "codemirror_mode": {
    "name": "ipython",
    "version": 3
   },
   "file_extension": ".py",
   "mimetype": "text/x-python",
   "name": "python",
   "nbconvert_exporter": "python",
   "pygments_lexer": "ipython3",
   "version": "3.11.9"
  }
 },
 "nbformat": 4,
 "nbformat_minor": 2
}
